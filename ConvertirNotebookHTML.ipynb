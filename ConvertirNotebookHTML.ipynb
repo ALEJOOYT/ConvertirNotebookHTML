{
 "cells": [
  {
   "cell_type": "markdown",
   "id": "0565036c",
   "metadata": {},
   "source": [
    "\n",
    "# <center>Conversión de Notebook a HTML</center>\n",
    "<center>Estudiante: Miguel Angel Flores Serrano</center>\n",
    "<center>Curso: Ingeniería de Sistemas - Escuela Militar de Ingeniería</center>\n",
    "<center>Docente: Ing. Angela Santos</center>\n",
    "<center>Fecha: 11 de Abril de 2025</center>\n"
   ]
  },
  {
   "cell_type": "code",
   "execution_count": null,
   "id": "19716c82",
   "metadata": {},
   "outputs": [],
   "source": [
    "\n",
    "#@title Convertir Notebook (.ipynb) a HTML en Google Colab\n",
    "\n",
    "# Subir archivo ipynb\n",
    "from google.colab import files\n",
    "archivosSubidos <- files.upload()\n",
    "\n",
    "# Convertir archivo ipynb a HTML\n",
    "import subprocess\n",
    "nombreArchivo <- list(archivosSubidos.keys())[0]\n",
    "_ = subprocess.run([\"pip\", \"install\", \"nbconvert\"])\n",
    "_ = subprocess.run([\"jupyter\", \"nbconvert\", nombreArchivo, \"--to\", \"html\"])\n",
    "\n",
    "# Descargar el archivo HTML generado\n",
    "files.download(nombreArchivo[:-5] + \"html\")\n"
   ]
  }
 ],
 "metadata": {},
 "nbformat": 4,
 "nbformat_minor": 5
}
