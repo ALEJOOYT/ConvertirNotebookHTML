{
  "cells": [
    {
      "cell_type": "markdown",
      "metadata": {
        "id": "view-in-github",
        "colab_type": "text"
      },
      "source": [
        "<a href=\"https://colab.research.google.com/github/ALEJOOYT/ConvertirNotebookHTML/blob/main/ConvertirNotebookHTML.ipynb\" target=\"_parent\"><img src=\"https://colab.research.google.com/assets/colab-badge.svg\" alt=\"Open In Colab\"/></a>"
      ]
    },
    {
      "cell_type": "markdown",
      "id": "0565036c",
      "metadata": {
        "id": "0565036c"
      },
      "source": [
        "<center>Zalles Merino Izai Alejandro</center>"
      ]
    },
    {
      "cell_type": "code",
      "source": [
        "# Convertidor de Notebook a HTML Personalizable\n",
        "# Desarrollado para Google Colab\n",
        "\n",
        "# Importar bibliotecas necesarias\n",
        "from google.colab import files\n",
        "import subprocess\n",
        "import IPython.display as display\n",
        "from IPython.display import HTML\n",
        "import os"
      ],
      "metadata": {
        "id": "D6bnFgm3i83M"
      },
      "id": "D6bnFgm3i83M",
      "execution_count": 24,
      "outputs": []
    },
    {
      "cell_type": "code",
      "source": [
        "def MostrarMensaje(mensaje, tipo=\"info\"):\n",
        "    \"\"\"Muestra mensajes formateados en la consola según su tipo.\"\"\"\n",
        "    if tipo == \"info\":\n",
        "        print(f\"ℹ️ {mensaje}\")\n",
        "    elif tipo == \"exito\":\n",
        "        print(f\"✅ {mensaje}\")\n",
        "    elif tipo == \"error\":\n",
        "        print(f\"❌ {mensaje}\")\n",
        "    elif tipo == \"alerta\":\n",
        "        print(f\"⚠️ {mensaje}\")\n",
        "    elif tipo == \"proceso\":\n",
        "        print(f\"⏳ {mensaje}\")\n",
        "    elif tipo == \"descarga\":\n",
        "        print(f\"⬇️ {mensaje}\")\n",
        "    elif tipo == \"completado\":\n",
        "        print(f\"✨ {mensaje}\")"
      ],
      "metadata": {
        "id": "JAk5Eu5OlQxe"
      },
      "id": "JAk5Eu5OlQxe",
      "execution_count": null,
      "outputs": []
    },
    {
      "cell_type": "code",
      "source": [
        "def CrearMenuPersonalizado(titulo):\n",
        "    \"\"\"Crea un menú HTML estilizado para insertar en el notebook.\"\"\"\n",
        "    menuHTML = f\"\"\"\n",
        "    <div style=\"background-color: #3498db; color: white; padding: 15px; margin-bottom: 20px; border-radius: 8px; box-shadow: 0 4px 8px rgba(0,0,0,0.2);\">\n",
        "        <h1 style=\"margin: 0; text-align: center; font-family: Arial, sans-serif;\">{titulo}</h1>\n",
        "        <div style=\"display: flex; justify-content: center; margin-top: 15px;\">\n",
        "            <div style=\"background-color: #2980b9; padding: 8px 15px; margin: 0 10px; border-radius: 5px; cursor: pointer; transition: background-color 0.3s; font-weight: bold;\">Inicio</div>\n",
        "            <div style=\"background-color: #2980b9; padding: 8px 15px; margin: 0 10px; border-radius: 5px; cursor: pointer; transition: background-color 0.3s; font-weight: bold;\">Contenido</div>\n",
        "            <div style=\"background-color: #2980b9; padding: 8px 15px; margin: 0 10px; border-radius: 5px; cursor: pointer; transition: background-color 0.3s; font-weight: bold;\">Descargar</div>\n",
        "        </div>\n",
        "    </div>\n",
        "    \"\"\"\n",
        "    return menuHTML"
      ],
      "metadata": {
        "id": "EiOtyegUlTS1"
      },
      "id": "EiOtyegUlTS1",
      "execution_count": null,
      "outputs": []
    },
    {
      "cell_type": "code",
      "source": [
        "def LeerArchivoConDeteccionCodificacion(rutaArchivo):\n",
        "    \"\"\"Lee un archivo probando diferentes codificaciones hasta encontrar la correcta.\"\"\"\n",
        "    # Lista de codificaciones a intentar\n",
        "    listaCodificaciones = ['utf-8', 'latin-1', 'iso-8859-1', 'cp1252']\n",
        "\n",
        "    for codificacion in listaCodificaciones:\n",
        "        try:\n",
        "            with open(rutaArchivo, 'r', encoding=codificacion) as archivo:\n",
        "                contenido = archivo.read()\n",
        "                MostrarMensaje(f\"Archivo leído correctamente usando codificación: {codificacion}\", \"info\")\n",
        "                return contenido, codificacion\n",
        "        except UnicodeDecodeError:\n",
        "            continue\n",
        "\n",
        "    # Si ninguna codificación específica funciona, usamos latin-1 como último recurso\n",
        "    with open(rutaArchivo, 'r', encoding='latin-1') as archivo:\n",
        "        contenido = archivo.read()\n",
        "        MostrarMensaje(\"Se usó codificación latin-1 como último recurso\", \"alerta\")\n",
        "        return contenido, 'latin-1'"
      ],
      "metadata": {
        "id": "6c-RicB-lV-M"
      },
      "id": "6c-RicB-lV-M",
      "execution_count": null,
      "outputs": []
    },
    {
      "cell_type": "code",
      "source": [
        "def InsertarMenuEnHTML(contenidoHTML, menuHTML):\n",
        "    \"\"\"Inserta el menú personalizado en el contenido HTML.\"\"\"\n",
        "    if \"<body>\" in contenidoHTML:\n",
        "        contenidoModificado = contenidoHTML.replace(\"<body>\", f\"<body>\\n{menuHTML}\")\n",
        "        return contenidoModificado\n",
        "    elif \"</head>\" in contenidoHTML:\n",
        "        contenidoModificado = contenidoHTML.replace(\"</head>\", f\"</head>\\n{menuHTML}\")\n",
        "        return contenidoModificado\n",
        "    else:\n",
        "        # Si no encuentra las etiquetas anteriores, lo inserta al inicio\n",
        "        return f\"{menuHTML}\\n{contenidoHTML}\""
      ],
      "metadata": {
        "id": "ONay2beUlYfR"
      },
      "id": "ONay2beUlYfR",
      "execution_count": null,
      "outputs": []
    },
    {
      "cell_type": "code",
      "source": [
        "def GuardarArchivoHTML(rutaArchivo, contenido, codificacion):\n",
        "    \"\"\"Guarda el contenido en un archivo HTML con la codificación especificada.\"\"\"\n",
        "    try:\n",
        "        with open(rutaArchivo, 'w', encoding=codificacion) as archivo:\n",
        "            archivo.write(contenido)\n",
        "        MostrarMensaje(f\"Archivo guardado exitosamente: {rutaArchivo}\", \"exito\")\n",
        "        return True\n",
        "    except Exception as error:\n",
        "        MostrarMensaje(f\"Error al guardar el archivo: {str(error)}\", \"error\")\n",
        "        return False"
      ],
      "metadata": {
        "id": "k5uc0IzQlaiK"
      },
      "id": "k5uc0IzQlaiK",
      "execution_count": null,
      "outputs": []
    },
    {
      "cell_type": "code",
      "source": [
        "def ConvertirNotebookAHTML():\n",
        "    \"\"\"Función principal que coordina todo el proceso de conversión.\"\"\"\n",
        "    # Mostrar mensaje de bienvenida\n",
        "    print(\"\\n\" + \"=\"*80)\n",
        "    print(\"🔄 CONVERTIDOR DE NOTEBOOK A HTML\".center(80))\n",
        "    print(\"=\"*80 + \"\\n\")\n",
        "\n",
        "    # Paso 1: Solicitar al usuario que suba su archivo\n",
        "    MostrarMensaje(\"Por favor, sube tu archivo de notebook (.ipynb):\", \"proceso\")\n",
        "    archivosSubidos = files.upload()\n",
        "\n",
        "    if not archivosSubidos:\n",
        "        MostrarMensaje(\"No se seleccionó ningún archivo. Proceso cancelado.\", \"error\")\n",
        "        return\n",
        "\n",
        "    # Obtener nombre del archivo subido\n",
        "    nombreArchivo = list(archivosSubidos.keys())[0]\n",
        "\n",
        "    if not nombreArchivo.endswith('.ipynb'):\n",
        "        MostrarMensaje(f\"El archivo {nombreArchivo} no parece ser un notebook de Jupyter (.ipynb)\", \"alerta\")\n",
        "        respuesta = input(\"¿Deseas continuar de todos modos? (s/n): \").lower()\n",
        "        if respuesta != 's':\n",
        "            MostrarMensaje(\"Proceso cancelado por el usuario.\", \"info\")\n",
        "            return\n",
        "\n",
        "    # Paso 2: Instalar nbconvert si es necesario\n",
        "    MostrarMensaje(\"Verificando dependencias necesarias...\", \"proceso\")\n",
        "    subprocess.run([\"pip\", \"install\", \"nbconvert\"], capture_output=True)\n",
        "\n",
        "    # Preguntar si desea incluir menú\n",
        "    incluirMenu = False\n",
        "    respuestaMenu = input(\"\\n¿Deseas incluir un menú en la parte superior del HTML? (s/n): \").lower()\n",
        "    if respuestaMenu == 's':\n",
        "        incluirMenu = True\n",
        "\n",
        "    # Paso 3: Convertir notebook a HTML\n",
        "    MostrarMensaje(f\"Convirtiendo el notebook {nombreArchivo} a formato HTML...\", \"proceso\")\n",
        "    resultado = subprocess.run([\"jupyter\", \"nbconvert\", nombreArchivo, \"--to\", \"html\"], capture_output=True)\n",
        "\n",
        "    if resultado.returncode != 0:\n",
        "        MostrarMensaje(\"Error al convertir el notebook a HTML.\", \"error\")\n",
        "        MostrarMensaje(f\"Detalles del error: {resultado.stderr.decode('utf-8', errors='ignore')}\", \"error\")\n",
        "        return\n",
        "\n",
        "    # Confirmar nombre del archivo HTML generado\n",
        "    archivoHTML = nombreArchivo.replace(\".ipynb\", \".html\")\n",
        "    if not os.path.exists(archivoHTML):\n",
        "        MostrarMensaje(f\"No se encontró el archivo HTML generado: {archivoHTML}\", \"error\")\n",
        "        return\n",
        "\n",
        "    # Paso 4: Leer el archivo HTML generado\n",
        "    MostrarMensaje(\"Procesando el archivo HTML generado...\", \"proceso\")\n",
        "    try:\n",
        "        contenidoHTML, codificacionUsada = LeerArchivoConDeteccionCodificacion(archivoHTML)\n",
        "    except Exception as error:\n",
        "        MostrarMensaje(f\"Error al leer el archivo HTML: {str(error)}\", \"error\")\n",
        "        return\n",
        "\n",
        "    # Paso 5: Si se solicita, crear e insertar el menú personalizado\n",
        "    contenidoModificado = contenidoHTML\n",
        "\n",
        "    if incluirMenu:\n",
        "        tituloNotebook = nombreArchivo.replace(\".ipynb\", \"\").replace(\"_\", \" \").title()\n",
        "        menuPersonalizado = CrearMenuPersonalizado(f\"Notebook: {tituloNotebook}\")\n",
        "        contenidoModificado = InsertarMenuEnHTML(contenidoHTML, menuPersonalizado)\n",
        "        MostrarMensaje(\"Menú personalizado insertado correctamente.\", \"exito\")\n",
        "\n",
        "    # Paso 6: Guardar el archivo HTML modificado\n",
        "    exitoGuardado = GuardarArchivoHTML(archivoHTML, contenidoModificado, codificacionUsada)\n",
        "    if not exitoGuardado:\n",
        "        return\n",
        "\n",
        "    # Paso 7: Descargar el archivo HTML modificado\n",
        "    MostrarMensaje(\"Preparando archivo para descarga...\", \"descarga\")\n",
        "    files.download(archivoHTML)\n",
        "\n",
        "    # Finalizar con mensaje de éxito\n",
        "    print(\"\\n\" + \"-\"*80)\n",
        "    MostrarMensaje(\"¡Proceso completado con éxito!\", \"completado\")\n",
        "    if incluirMenu:\n",
        "        MostrarMensaje(f\"El archivo '{archivoHTML}' ha sido generado y descargado con el menú personalizado\", \"completado\")\n",
        "    else:\n",
        "        MostrarMensaje(f\"El archivo '{archivoHTML}' ha sido generado y descargado sin modificaciones adicionales\", \"completado\")\n",
        "    print(\"-\"*80 + \"\\n\")"
      ],
      "metadata": {
        "id": "RKs1u3fDlc7A"
      },
      "id": "RKs1u3fDlc7A",
      "execution_count": null,
      "outputs": []
    },
    {
      "cell_type": "code",
      "source": [
        "# Ejecutar la función principal\n",
        "ConvertirNotebookAHTML()"
      ],
      "metadata": {
        "id": "_eEx8bEylfp6"
      },
      "id": "_eEx8bEylfp6",
      "execution_count": null,
      "outputs": []
    }
  ],
  "metadata": {
    "colab": {
      "provenance": [],
      "include_colab_link": true
    },
    "language_info": {
      "name": "python"
    },
    "kernelspec": {
      "name": "python3",
      "display_name": "Python 3"
    }
  },
  "nbformat": 4,
  "nbformat_minor": 5
}